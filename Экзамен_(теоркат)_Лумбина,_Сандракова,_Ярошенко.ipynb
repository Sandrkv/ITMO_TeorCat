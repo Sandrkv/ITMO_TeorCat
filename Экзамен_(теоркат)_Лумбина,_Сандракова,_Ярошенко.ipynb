{
  "nbformat": 4,
  "nbformat_minor": 0,
  "metadata": {
    "colab": {
      "provenance": [],
      "collapsed_sections": [
        "Pl-NciMz0GOp",
        "PxbfveacFFCo",
        "CBqO--T5yyrE",
        "Nb_tH9_mfddH",
        "98NBrgi2z0gz",
        "s6cszYu4aNqR"
      ]
    },
    "kernelspec": {
      "name": "python3",
      "display_name": "Python 3"
    },
    "language_info": {
      "name": "python"
    }
  },
  "cells": [
    {
      "cell_type": "code",
      "source": [
        "# Задание классов\n",
        "class Association():  #Объявили класс Association\n",
        "    def __init__(self, arg, body):\n",
        "        self.arg = arg\n",
        "        self.body = body\n",
        "\n",
        "    def __str__(self):\n",
        "        return f\"(λ{self.arg}.{self.body})\"\n",
        "\n",
        "class Variable():  #Объявили класс Variable\n",
        "    def __init__(self, var):\n",
        "        self.var = var\n",
        "\n",
        "    def __str__(self):\n",
        "        return self.var\n",
        "\n",
        "class Application():  #Объявили класс Application\n",
        "    def __init__(self, left, right):\n",
        "        self.left = left\n",
        "        self.right = right\n",
        "\n",
        "    def __str__(self):\n",
        "        return f\"({self.left} {self.right})\""
      ],
      "metadata": {
        "id": "z1L_XvZD9atw"
      },
      "execution_count": 16,
      "outputs": []
    },
    {
      "cell_type": "markdown",
      "source": [
        "## Задание 1 - Определение типа переменной"
      ],
      "metadata": {
        "id": "Pl-NciMz0GOp"
      }
    },
    {
      "cell_type": "code",
      "source": [
        "def check_and_print(arg, body, var, left, right):\n",
        "  if (arg is not None and body is not None and var is None and left is None and right is None):\n",
        "    print(\"Association\")\n",
        "  elif (arg is None and body is None and var is not None and left is None and right is None):\n",
        "    print(\"Variable\")\n",
        "  elif (arg is None and body is None and var is None and left is not None and right is not None):\n",
        "    print(\"Application\")\n",
        "  else:\n",
        "    print(\"Неизвестный тип\")"
      ],
      "metadata": {
        "id": "lFBLFEuSC4i8"
      },
      "execution_count": 3,
      "outputs": []
    },
    {
      "cell_type": "code",
      "source": [
        "# Задание 1. Проверка\n",
        "check_and_print(1, 1, None, None, None)\n",
        "check_and_print(None, None, 1, 1, None)\n",
        "check_and_print(None, None, 1, None, None)\n",
        "check_and_print(None, None, None, 1, 1)"
      ],
      "metadata": {
        "colab": {
          "base_uri": "https://localhost:8080/"
        },
        "id": "l_dnk_1aEHjx",
        "outputId": "97635aab-39b5-4798-f69f-ea560cb45b75"
      },
      "execution_count": 5,
      "outputs": [
        {
          "output_type": "stream",
          "name": "stdout",
          "text": [
            "Association\n",
            "Неизвестный тип\n",
            "Variable\n",
            "Application\n"
          ]
        }
      ]
    },
    {
      "cell_type": "markdown",
      "source": [
        "## Задание 2 - Определение типа (связанные/свободные)"
      ],
      "metadata": {
        "id": "PxbfveacFFCo"
      }
    },
    {
      "cell_type": "code",
      "source": [
        "def check_free(lam, free, bound, parent=None):\n",
        "    if isinstance(lam, Variable):\n",
        "        free.append(lam.var)\n",
        "\n",
        "    if isinstance(lam, Association):\n",
        "        bound.append(lam.arg)\n",
        "        check_free(lam.body, free, bound, lam)\n",
        "\n",
        "    if isinstance(lam, Application):\n",
        "        if isinstance(parent, Association):\n",
        "            if str(lam.left).rstrip() == parent.arg:\n",
        "                bound.append(str(lam.left).rstrip())\n",
        "            else:\n",
        "                check_free(lam.left, free, bound, lam)\n",
        "        check_free(lam.right, free, bound, lam)"
      ],
      "metadata": {
        "id": "wi4C7MUNyxZ6"
      },
      "execution_count": 63,
      "outputs": []
    },
    {
      "cell_type": "markdown",
      "source": [
        "### Пример 1"
      ],
      "metadata": {
        "id": "CBqO--T5yyrE"
      }
    },
    {
      "cell_type": "code",
      "source": [
        "l4 = Variable(\"z\")\n",
        "l3 = Variable(\"y\")\n",
        "l2 = Application(left=l3, right=l4)\n",
        "l1 = Association(arg=\"y\", body=l2)\n",
        "l = Association(arg=\"x\", body=l1)"
      ],
      "metadata": {
        "id": "eZaZh_ZgfdK5"
      },
      "execution_count": 64,
      "outputs": []
    },
    {
      "cell_type": "code",
      "source": [
        "print(l)\n",
        "print(l1)\n",
        "print(l2)\n",
        "print(l3)\n",
        "print(l4)"
      ],
      "metadata": {
        "colab": {
          "base_uri": "https://localhost:8080/"
        },
        "id": "BGC7MddlfdQW",
        "outputId": "490d6969-cd58-40c3-c2a0-b0843e08552e"
      },
      "execution_count": 65,
      "outputs": [
        {
          "output_type": "stream",
          "name": "stdout",
          "text": [
            "(λx.(λy.(y z)))\n",
            "(λy.(y z))\n",
            "(y z)\n",
            "y\n",
            "z\n"
          ]
        }
      ]
    },
    {
      "cell_type": "code",
      "source": [
        "free_list = list()\n",
        "bound_list = list()\n",
        "check_free(lam=l, free=free_list, bound=bound_list)\n",
        "\n",
        "print(f\"{free_list=}\")\n",
        "print(f\"{bound_list=}\")"
      ],
      "metadata": {
        "colab": {
          "base_uri": "https://localhost:8080/"
        },
        "id": "Mb_Tloq0fdUt",
        "outputId": "52ebf14b-e561-46e2-8fca-7e0f664550f0"
      },
      "execution_count": 68,
      "outputs": [
        {
          "output_type": "stream",
          "name": "stdout",
          "text": [
            "['z']\n",
            "['x', 'y', 'y']\n"
          ]
        }
      ]
    },
    {
      "cell_type": "markdown",
      "source": [
        "### Пример 2"
      ],
      "metadata": {
        "id": "Nb_tH9_mfddH"
      }
    },
    {
      "cell_type": "code",
      "source": [
        "l5 = Variable(\"y\")\n",
        "l4 = Variable(\"x\")\n",
        "l3 = Association(arg=\"z\", body=l5)\n",
        "l2 = Association(arg=\"y\", body=l4)\n",
        "l1 = Application(left=l2, right=l3)\n",
        "l = Association(arg=\"x\", body=l1)"
      ],
      "metadata": {
        "id": "2Meq3btGcsDL"
      },
      "execution_count": 69,
      "outputs": []
    },
    {
      "cell_type": "code",
      "source": [
        "print(l)\n",
        "print(l1)\n",
        "print(l2)\n",
        "print(l3)\n",
        "print(l4)\n",
        "print(l5)"
      ],
      "metadata": {
        "colab": {
          "base_uri": "https://localhost:8080/"
        },
        "id": "XFEOKfaezE7H",
        "outputId": "383f3b9f-cb20-400f-beab-85de29be4b0b"
      },
      "execution_count": 70,
      "outputs": [
        {
          "output_type": "stream",
          "name": "stdout",
          "text": [
            "(λx.((λy.x) (λz.y)))\n",
            "((λy.x) (λz.y))\n",
            "(λy.x)\n",
            "(λz.y)\n",
            "x\n",
            "y\n"
          ]
        }
      ]
    },
    {
      "cell_type": "code",
      "source": [
        "free_list = list()\n",
        "bound_list = list()\n",
        "check_free(lam=l, free=free_list, bound=bound_list)\n",
        "\n",
        "print(f\"{free_list=}\")\n",
        "print(f\"{bound_list=}\")"
      ],
      "metadata": {
        "colab": {
          "base_uri": "https://localhost:8080/"
        },
        "id": "yeIgMvkhzvaR",
        "outputId": "8c26740d-8a8c-4a43-d56a-91d7fa1155ed"
      },
      "execution_count": 73,
      "outputs": [
        {
          "output_type": "stream",
          "name": "stdout",
          "text": [
            "free_list=['x', 'y']\n",
            "bound_list=['x', 'y', 'z']\n"
          ]
        }
      ]
    },
    {
      "cell_type": "markdown",
      "source": [
        "## Задание 3"
      ],
      "metadata": {
        "id": "98NBrgi2z0gz"
      }
    },
    {
      "cell_type": "code",
      "source": [
        "p15 = Variable(\"t\")\n",
        "p14 = Variable(\"p\")\n",
        "p13 = Variable(\"f\")\n",
        "p12 = Application(left=p14, right=p15)\n",
        "p11 = Application(left=p12, right=p13)\n",
        "p10 = Association(arg=\"f\", body=p11)\n",
        "p9 = Association(arg=\"t\", body=p10)\n",
        "p8 = Variable(\"a\")\n",
        "p7 = Association(arg=\"p\", body=p9)\n",
        "p6 = Variable(\"b\")\n",
        "p5 = Application(left=p7, right=p8)\n",
        "p4 = Variable(\"b\")\n",
        "p3 = Application(left=p5, right=p6)\n",
        "p2 = Application(left=p3, right=p4)\n",
        "p1 = Association(arg=\"b\", body=p2)\n",
        "p = Association(arg=\"a\", body=p1)"
      ],
      "metadata": {
        "id": "aFcE6xSNW0mL"
      },
      "execution_count": 107,
      "outputs": []
    },
    {
      "cell_type": "code",
      "source": [
        "print(p)"
      ],
      "metadata": {
        "colab": {
          "base_uri": "https://localhost:8080/"
        },
        "id": "Jy0N8ovbW0rs",
        "outputId": "f7f87c8b-1378-4022-9d71-868a6f89204c"
      },
      "execution_count": 108,
      "outputs": [
        {
          "output_type": "stream",
          "name": "stdout",
          "text": [
            "(λa.(λb.((((λp.(λt.(λf.((p t) f)))) a) b) b)))\n"
          ]
        }
      ]
    },
    {
      "cell_type": "markdown",
      "source": [
        "### Черновик"
      ],
      "metadata": {
        "id": "s6cszYu4aNqR"
      }
    },
    {
      "cell_type": "code",
      "source": [
        "# t2 = Variable(\"x\")\n",
        "# t1 = Association(arg=\"y\", body=t2)\n",
        "# t = Association(arg=\"x\", body=t1)\n",
        "\n",
        "# print(\"t=\",t)\n",
        "\n",
        "# f2 = Variable(\"y\")\n",
        "# f1 = Association(arg=\"y\", body=f2)\n",
        "# f = Association(arg=\"x\", body=f1)\n",
        "\n",
        "# print(\"f=\",f)"
      ],
      "metadata": {
        "id": "RfnBpLGF1g5q"
      },
      "execution_count": 109,
      "outputs": []
    },
    {
      "cell_type": "code",
      "source": [
        "# truefalse = lambda l: l.arg == l.body.body.var"
      ],
      "metadata": {
        "id": "iGL8VLInHVC-"
      },
      "execution_count": 110,
      "outputs": []
    },
    {
      "cell_type": "code",
      "source": [
        "# Pierce = lambda l1: lambda l2: not (truefalse(l1) or truefalse(l2))"
      ],
      "metadata": {
        "id": "Sl5rji3LDg6t"
      },
      "execution_count": 111,
      "outputs": []
    },
    {
      "cell_type": "code",
      "source": [
        "# result_p = Pierce(t)(t)\n",
        "# print(result_p) # Вывод: False\n",
        "\n",
        "# result_p = Pierce(t)(f)\n",
        "# print(result_p) # Вывод: False\n",
        "\n",
        "# result_p = Pierce(f)(t)\n",
        "# print(result_p) # Вывод: False\n",
        "\n",
        "# result_p = Pierce(f)(f)\n",
        "# print(result_p) # Вывод: True"
      ],
      "metadata": {
        "id": "xc1OkHJOE9ij"
      },
      "execution_count": 112,
      "outputs": []
    },
    {
      "cell_type": "code",
      "source": [],
      "metadata": {
        "id": "GIV3-C4XF2lY"
      },
      "execution_count": null,
      "outputs": []
    },
    {
      "cell_type": "code",
      "source": [],
      "metadata": {
        "id": "uLR2lAWqGNsw"
      },
      "execution_count": null,
      "outputs": []
    }
  ]
}